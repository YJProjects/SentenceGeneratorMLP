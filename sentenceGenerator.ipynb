{
 "cells": [
  {
   "cell_type": "code",
   "execution_count": null,
   "id": "285806f5-e0f1-4a7b-aa38-ab85d0518b58",
   "metadata": {},
   "outputs": [],
   "source": [
    "#This file shows an implementation of MLP to create random sentences. I Cap the sentence to 10k for computational reasons.\n",
    "#You can download dataset from  https://huggingface.co/datasets/Tom9358/tatoeba_21-dec-2024/resolve/main/eng_sentences.tsv.bz2"
   ]
  },
  {
   "cell_type": "code",
   "execution_count": 10,
   "id": "8ae879a2-25e6-422c-bda6-2df95e67e031",
   "metadata": {},
   "outputs": [
    {
     "data": {
      "text/plain": [
       "[\"let's try something\",\n",
       " 'i have to go to sleep',\n",
       " \"today is june 18th and it is muiriel's birthday\",\n",
       " 'muiriel is 20 now',\n",
       " 'the password is \"muiriel\"']"
      ]
     },
     "execution_count": 10,
     "metadata": {},
     "output_type": "execute_result"
    }
   ],
   "source": [
    "file = open('eng_sentences.tsv')\n",
    "import torch\n",
    "rawSentences = file.readlines()\n",
    "refinedSentences = []\n",
    "\n",
    "for sentence in rawSentences[:10000]:\n",
    "    sentence = sentence.split('eng')[1]\n",
    "    sentence = sentence.strip('\\t')\n",
    "    sentence = sentence.partition('\\n')[0]\n",
    "    sentence = sentence.rstrip('.')\n",
    "    sentence = sentence.rstrip('?')\n",
    "    sentence = sentence.rstrip('!')\n",
    "    refinedSentences.append(sentence.lower())\n",
    "\n",
    "refinedSentences[:5]"
   ]
  },
  {
   "cell_type": "code",
   "execution_count": 11,
   "id": "a1f2ccc6-ff64-4232-ae37-ac109f76c467",
   "metadata": {},
   "outputs": [
    {
     "data": {
      "text/plain": [
       "(10000, 1983396)"
      ]
     },
     "execution_count": 11,
     "metadata": {},
     "output_type": "execute_result"
    }
   ],
   "source": [
    "len(refinedSentences), len(rawSentences)"
   ]
  },
  {
   "cell_type": "code",
   "execution_count": 12,
   "id": "1a9bca46-e2bb-45c6-8768-45fafa8b8fa5",
   "metadata": {},
   "outputs": [],
   "source": [
    "#We will convert each unique words into a number by iterating through all the words\n",
    "\n",
    "import math\n",
    "word_to_index = {}\n",
    "words = set()\n",
    "for sentence in refinedSentences:\n",
    "    for word in sentence.split(' '):\n",
    "        words.add(word)\n",
    "words = list(words)"
   ]
  },
  {
   "cell_type": "code",
   "execution_count": 13,
   "id": "decf4f89-c473-4533-ac1f-b5b8489d1e4b",
   "metadata": {},
   "outputs": [],
   "source": [
    "word_to_index = dict(zip(words, range(2, len(words) + 2)))\n",
    "word_to_index['<s>'] = 0\n",
    "word_to_index['<e>'] = 1\n",
    "\n",
    "index_to_word = {index:word for word, index in word_to_index.items()}"
   ]
  },
  {
   "cell_type": "code",
   "execution_count": 14,
   "id": "627ac207-2afb-4b68-82bd-04d1b345b8c2",
   "metadata": {},
   "outputs": [
    {
     "data": {
      "text/plain": [
       "8032"
      ]
     },
     "execution_count": 14,
     "metadata": {},
     "output_type": "execute_result"
    }
   ],
   "source": [
    "len(words)"
   ]
  },
  {
   "cell_type": "code",
   "execution_count": 15,
   "id": "2540c4fc-81fd-4c36-8a73-c1eed6b02add",
   "metadata": {},
   "outputs": [],
   "source": [
    "def probabilityBigram(): #number of words after a certain word\n",
    "    I = {} #ix counts\n",
    "    B = {}\n",
    "\n",
    "    for ix in range(len(refinedSentences)):\n",
    "        sentence = refinedSentences[ix]\n",
    "        words = sentence.split(' ')\n",
    "        words = ['<s>'] + words + ['<e>']\n",
    "        for wordix in range(len(words)-1):\n",
    "            word1 = words[wordix]\n",
    "            word2 = words[wordix + 1]\n",
    "            ix1 = word_to_index[word1]\n",
    "            ix2 = word_to_index[word2]\n",
    "\n",
    "            if ix1 in I:\n",
    "                I[ix1] += 1\n",
    "            else:\n",
    "                I[ix1] = 1\n",
    "\n",
    "            if ix1 in B:\n",
    "                if ix2 in B[ix1]:\n",
    "                    B[ix1][ix2] += 1\n",
    "                else:\n",
    "                    B[ix1][ix2] = 1\n",
    "            else:\n",
    "                B[ix1] = {ix2 : 1}\n",
    "\n",
    "    PB = {}\n",
    "\n",
    "    for ix1 in B:\n",
    "        for ix2 in B[ix1]:\n",
    "            if ix1 not in PB: \n",
    "                PB[ix1] = {}\n",
    "            PB[ix1][ix2] = B[ix1][ix2]/I[ix1]\n",
    "            \n",
    "\n",
    "    return PB\n",
    "    \n",
    "PB = probabilityBigram()\n"
   ]
  },
  {
   "cell_type": "code",
   "execution_count": 16,
   "id": "b52ac69a-6740-4bdd-8f06-a48008afe598",
   "metadata": {},
   "outputs": [],
   "source": [
    "def build_dataset(dim):\n",
    "    xs = []\n",
    "    ys = []\n",
    "    for ix in range(len(refinedSentences)):\n",
    "        sentence = refinedSentences[ix]\n",
    "        words = sentence.split(' ')\n",
    "        words = ['<s>'] + words + ['<e>']\n",
    "        for wordix in range(len(words)-1):\n",
    "            word1 = words[wordix]\n",
    "            word2 = words[wordix + 1]\n",
    "            ix1 = word_to_index[word1]\n",
    "            ix2 = word_to_index[word2]\n",
    "            xs.append(ix1)\n",
    "            ys.append(ix2)\n",
    "    return torch.tensor(xs), torch.tensor(ys)\n",
    "xs,ys = build_dataset(len(index_to_word))"
   ]
  },
  {
   "cell_type": "code",
   "execution_count": 17,
   "id": "a228f403-c13f-4ea8-918f-14acd66baf89",
   "metadata": {},
   "outputs": [
    {
     "data": {
      "text/plain": [
       "(torch.Size([90931]), torch.Size([90931]))"
      ]
     },
     "execution_count": 17,
     "metadata": {},
     "output_type": "execute_result"
    }
   ],
   "source": [
    "xs.shape, ys.shape"
   ]
  },
  {
   "cell_type": "code",
   "execution_count": 18,
   "id": "70196b56-2a9d-4b07-8800-6f6b9d5ee570",
   "metadata": {},
   "outputs": [
    {
     "data": {
      "text/plain": [
       "(tensor([2216,    0, 6768, 5222, 6469]),\n",
       " tensor([   1, 6768, 5222, 6469, 6727]))"
      ]
     },
     "execution_count": 18,
     "metadata": {},
     "output_type": "execute_result"
    }
   ],
   "source": [
    "xs[100:105], ys[100:105]"
   ]
  },
  {
   "cell_type": "code",
   "execution_count": 19,
   "id": "7dbe839c-1012-41ab-ada0-d479c7ae8d85",
   "metadata": {},
   "outputs": [],
   "source": [
    "from torch.nn import Embedding as embed\n",
    "emb = embed(num_embeddings = len(word_to_index), embedding_dim = 128)\n"
   ]
  },
  {
   "cell_type": "code",
   "execution_count": 40,
   "id": "8a3f17d9-9f39-484a-b5b1-9e67595dce20",
   "metadata": {},
   "outputs": [],
   "source": [
    "nn_layer1 = 64\n",
    "nn_layer2 = 32\n",
    "nn_layer3 = len(word_to_index)\n",
    "\n",
    "W1 = torch.randn((128, nn_layer1))\n",
    "B1 = torch.randn((1, nn_layer1))\n",
    "\n",
    "W2 =torch.randn((nn_layer1, nn_layer2))\n",
    "B2 = torch.randn((1, nn_layer2)) \n",
    "\n",
    "W3 =torch.randn((nn_layer2, nn_layer3))\n",
    "B3 = torch.randn((1, nn_layer3)) \n",
    "\n",
    "params = [W1, B1, W2, B2, W3, B3]\n",
    "for p in params:\n",
    "    p.requires_grad = True"
   ]
  },
  {
   "cell_type": "code",
   "execution_count": 58,
   "id": "c7e0b253-6536-44c0-a58f-e34d99acb409",
   "metadata": {},
   "outputs": [
    {
     "name": "stdout",
     "output_type": "stream",
     "text": [
      "Step 0, loss: 7.0234\n",
      "Step 1000, loss: 6.0658\n",
      "Step 2000, loss: 6.7262\n",
      "Step 3000, loss: 7.2871\n",
      "Step 4000, loss: 6.0508\n",
      "Step 5000, loss: 6.1623\n",
      "Step 6000, loss: 5.5807\n",
      "Step 7000, loss: 5.7357\n",
      "Step 8000, loss: 5.7876\n",
      "Step 9000, loss: 6.1293\n"
     ]
    },
    {
     "data": {
      "text/plain": [
       "tensor(5.7964, grad_fn=<NegBackward0>)"
      ]
     },
     "execution_count": 58,
     "metadata": {},
     "output_type": "execute_result"
    }
   ],
   "source": [
    "batch_size = 128\n",
    "steps = []\n",
    "loss = []\n",
    "import random\n",
    "\n",
    "for i in range(10000):\n",
    "    #Batch the data\n",
    "    batch_start = random.randint(0, len(xs)-32)\n",
    "    batch_end = batch_start + batch_size\n",
    "    samplexs = xs[batch_start : batch_end]\n",
    "    sampleys = ys[batch_start : batch_end]\n",
    "\n",
    "    #Forward Pass\n",
    "    X = emb(samplexs)\n",
    "    \n",
    "    Z1 = (X @ W1) + B1\n",
    "    O1 = torch.nn.functional.sigmoid(Z1)\n",
    "    Z2 = (O1 @ W2) + B2\n",
    "    O2 = torch.nn.functional.sigmoid(Z2)\n",
    "    Z3 = (O2 @ W3) + B3\n",
    "    preds = torch.nn.functional.softmax(Z3, dim=1)\n",
    "    \n",
    "    p = preds[torch.arange(len(preds)), sampleys]\n",
    "    logp = p.log()\n",
    "    nll = -logp.mean()\n",
    "\n",
    "    #Reset gradients\n",
    "    for p in params:\n",
    "        p.grad = None\n",
    "    \n",
    "    nll.backward()\n",
    "    \n",
    "    for p in params:\n",
    "        p.data -= 0.1* p.grad\n",
    "\n",
    "    steps.append(i)\n",
    "    loss.append(nll.item())\n",
    "\n",
    "    if i % 1000 == 0:\n",
    "        print(f\"Step {i}, loss: {nll.item():.4f}\")\n",
    "nll\n",
    "\n"
   ]
  },
  {
   "cell_type": "code",
   "execution_count": 42,
   "id": "7944d266-0ea2-4d80-9a10-f838a01a35de",
   "metadata": {
    "scrolled": true
   },
   "outputs": [
    {
     "data": {
      "text/plain": [
       "[<matplotlib.lines.Line2D at 0x79b7d12124b0>]"
      ]
     },
     "execution_count": 42,
     "metadata": {},
     "output_type": "execute_result"
    },
    {
     "data": {
      "image/png": "[encoded data removed]",
      "text/plain": [
       "<Figure size 640x480 with 1 Axes>"
      ]
     },
     "metadata": {},
     "output_type": "display_data"
    }
   ],
   "source": [
    "import matplotlib.pyplot as plt\n",
    "%matplotlib inline\n",
    "\n",
    "plt.plot(steps, loss)"
   ]
  },
  {
   "cell_type": "code",
   "execution_count": 107,
   "id": "50957be4-1846-4046-a87c-7c09270a7434",
   "metadata": {},
   "outputs": [],
   "source": [
    "#Sample from model!\n",
    "\n",
    "x = emb(torch.tensor(0))\n",
    "randomSentence = ''\n",
    "out = None\n",
    "while out != 1:\n",
    "    \n",
    "    Z1 = (x @ W1) + B1\n",
    "    O1 = torch.nn.functional.sigmoid(Z1)\n",
    "    Z2 = (O1 @ W2) + B2\n",
    "    O2 = torch.nn.functional.sigmoid(Z2)\n",
    "    Z3 = (O2 @ W3) + B3\n",
    "    preds = torch.nn.functional.softmax(Z3, dim=1)\n",
    "    out = torch.multinomial(preds, num_samples = 1, replacement = False).item()\n",
    "    x = emb(torch.tensor(out))\n",
    "    randomSentence += index_to_word[out] + ' ' if out != 1 else '.'"
   ]
  },
  {
   "cell_type": "code",
   "execution_count": 108,
   "id": "93e9483b-9c0d-4a88-8315-fbbf05bd0eca",
   "metadata": {},
   "outputs": [
    {
     "data": {
      "text/plain": [
       "'our sorrow, know was voice like you go your differently, you holiday him aids of pollution was cured some weapons, .'"
      ]
     },
     "execution_count": 108,
     "metadata": {},
     "output_type": "execute_result"
    }
   ],
   "source": [
    "randomSentence"
   ]
  },
  {
   "cell_type": "code",
   "execution_count": null,
   "id": "192f3a6f-effb-4d75-a42e-d442df1d3825",
   "metadata": {},
   "outputs": [],
   "source": [
    "#Of course the sentence is garbage cause MLP is not a very effective model!"
   ]
  },
  {
   "cell_type": "code",
   "execution_count": null,
   "id": "ee7694cf-a687-440f-a0a4-5f3898dcaf36",
   "metadata": {},
   "outputs": [],
   "source": [
    "len(ys)"
   ]
  },
  {
   "cell_type": "code",
   "execution_count": null,
   "id": "5dd07188-845b-4c43-a805-918fad0add75",
   "metadata": {},
   "outputs": [],
   "source": []
  }
 ],
 "metadata": {
  "kernelspec": {
   "display_name": "Python 3 (ipykernel)",
   "language": "python",
   "name": "python3"
  },
  "language_info": {
   "codemirror_mode": {
    "name": "ipython",
    "version": 3
   },
   "file_extension": ".py",
   "mimetype": "text/x-python",
   "name": "python",
   "nbconvert_exporter": "python",
   "pygments_lexer": "ipython3",
   "version": "3.12.3"
  }
 },
 "nbformat": 4,
 "nbformat_minor": 5
}
